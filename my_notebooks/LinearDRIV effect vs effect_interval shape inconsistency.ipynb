{
 "cells": [
  {
   "cell_type": "markdown",
   "metadata": {},
   "source": [
    "## Links"
   ]
  },
  {
   "cell_type": "markdown",
   "metadata": {},
   "source": [
    "https://github.com/py-why/EconML/issues/687 - issue opened by Keith\n",
    "\n",
    "https://econml.azurewebsites.net/_autosummary/econml.iv.dr.DRIV.html#econml.iv.dr.DRIV - Public Module Reference \n",
    "\n",
    "https://econml.azurewebsites.net/spec/estimation/orthoiv.html#what-are-the-relevant-estimator-classes - EconML User Guide\n",
    "\n",
    "https://arxiv.org/pdf/1905.10176 - Machine Learning Estimation of Heterogenous Treatment Effects with Instruments (Vasilis et al.)"
   ]
  },
  {
   "cell_type": "markdown",
   "metadata": {},
   "source": [
    "## Reproducing the Issue - effect and effect_interval inconsistent dim "
   ]
  },
  {
   "cell_type": "code",
   "execution_count": 53,
   "metadata": {},
   "outputs": [],
   "source": [
    "import numpy as np\n",
    "import pandas as pd\n",
    "from econml.iv.dr import LinearDRIV, SparseLinearDRIV\n",
    "import scipy\n",
    "import matplotlib.pyplot as plt\n",
    "from econml.utilities import shape, ndim  # import other functions I need\n",
    "from statsmodels.tools.tools import add_constant\n"
   ]
  },
  {
   "cell_type": "code",
   "execution_count": 2,
   "metadata": {},
   "outputs": [],
   "source": [
    "np.random.seed(42)\n",
    "df = pd.DataFrame(np.random.normal(size = (100, 8)))\n",
    "\n",
    "# keeps columns as dataframes\n",
    "Y = df[[0]]\n",
    "T = df[[1]]\n",
    "X = df[[2,3,4]]\n",
    "Z = df[[5]]"
   ]
  },
  {
   "cell_type": "code",
   "execution_count": 3,
   "metadata": {},
   "outputs": [
    {
     "name": "stderr",
     "output_type": "stream",
     "text": [
      "Not all column names are strings. Coercing to strings for now.\n",
      "A column-vector y was passed when a 1d array was expected. Please change the shape of y to (n_samples,), for example using ravel().\n",
      "A column-vector y was passed when a 1d array was expected. Please change the shape of y to (n_samples,), for example using ravel().\n",
      "A column-vector y was passed when a 1d array was expected. Please change the shape of y to (n_samples,), for example using ravel().\n",
      "A column-vector y was passed when a 1d array was expected. Please change the shape of y to (n_samples,), for example using ravel().\n",
      "A column-vector y was passed when a 1d array was expected. Please change the shape of y to (n_samples,), for example using ravel().\n",
      "A column-vector y was passed when a 1d array was expected. Please change the shape of y to (n_samples,), for example using ravel().\n",
      "A column-vector y was passed when a 1d array was expected. Please change the shape of y to (n_samples,), for example using ravel().\n",
      "A column-vector y was passed when a 1d array was expected. Please change the shape of y to (n_samples,), for example using ravel().\n",
      "A column-vector y was passed when a 1d array was expected. Please change the shape of y to (n_samples,), for example using ravel().\n",
      "A column-vector y was passed when a 1d array was expected. Please change the shape of y to (n_samples,), for example using ravel().\n",
      "A column-vector y was passed when a 1d array was expected. Please change the shape of y to (n_samples,), for example using ravel().\n",
      "A column-vector y was passed when a 1d array was expected. Please change the shape of y to (n_samples,), for example using ravel().\n"
     ]
    },
    {
     "ename": "ValueError",
     "evalue": "einstein sum subscripts string contains too many subscripts for operand 0",
     "output_type": "error",
     "traceback": [
      "\u001b[0;31m---------------------------------------------------------------------------\u001b[0m",
      "\u001b[0;31mValueError\u001b[0m                                Traceback (most recent call last)",
      "Cell \u001b[0;32mIn[3], line 3\u001b[0m\n\u001b[1;32m      1\u001b[0m est \u001b[38;5;241m=\u001b[39m LinearDRIV()\u001b[38;5;241m.\u001b[39mfit(Y\u001b[38;5;241m=\u001b[39mY, T\u001b[38;5;241m=\u001b[39mT, Z\u001b[38;5;241m=\u001b[39mZ, X\u001b[38;5;241m=\u001b[39mX)\n\u001b[0;32m----> 3\u001b[0m eff \u001b[38;5;241m=\u001b[39m \u001b[43mest\u001b[49m\u001b[38;5;241;43m.\u001b[39;49m\u001b[43meffect\u001b[49m\u001b[43m(\u001b[49m\u001b[43mX\u001b[49m\u001b[43m)\u001b[49m\n\u001b[1;32m      4\u001b[0m lb, ub \u001b[38;5;241m=\u001b[39m est\u001b[38;5;241m.\u001b[39meffect_interval(X)\n\u001b[1;32m      5\u001b[0m \u001b[38;5;28mprint\u001b[39m(eff\u001b[38;5;241m.\u001b[39mshape)\n",
      "File \u001b[0;32m~/Documents/EconML/econml/_cate_estimator.py:940\u001b[0m, in \u001b[0;36mTreatmentExpansionMixin.effect\u001b[0;34m(self, X, T0, T1)\u001b[0m\n\u001b[1;32m    938\u001b[0m \u001b[38;5;28;01mdef\u001b[39;00m \u001b[38;5;21meffect\u001b[39m(\u001b[38;5;28mself\u001b[39m, X\u001b[38;5;241m=\u001b[39m\u001b[38;5;28;01mNone\u001b[39;00m, \u001b[38;5;241m*\u001b[39m, T0\u001b[38;5;241m=\u001b[39m\u001b[38;5;241m0\u001b[39m, T1\u001b[38;5;241m=\u001b[39m\u001b[38;5;241m1\u001b[39m):\n\u001b[1;32m    939\u001b[0m     \u001b[38;5;66;03m# NOTE: don't explicitly expand treatments here, because it's done in the super call\u001b[39;00m\n\u001b[0;32m--> 940\u001b[0m     \u001b[38;5;28;01mreturn\u001b[39;00m \u001b[38;5;28;43msuper\u001b[39;49m\u001b[43m(\u001b[49m\u001b[43m)\u001b[49m\u001b[38;5;241;43m.\u001b[39;49m\u001b[43meffect\u001b[49m\u001b[43m(\u001b[49m\u001b[43mX\u001b[49m\u001b[43m,\u001b[49m\u001b[43m \u001b[49m\u001b[43mT0\u001b[49m\u001b[38;5;241;43m=\u001b[39;49m\u001b[43mT0\u001b[49m\u001b[43m,\u001b[49m\u001b[43m \u001b[49m\u001b[43mT1\u001b[49m\u001b[38;5;241;43m=\u001b[39;49m\u001b[43mT1\u001b[49m\u001b[43m)\u001b[49m\n",
      "File \u001b[0;32m~/Documents/EconML/econml/_cate_estimator.py:631\u001b[0m, in \u001b[0;36mLinearCateEstimator.effect\u001b[0;34m(self, X, T0, T1)\u001b[0m\n\u001b[1;32m    629\u001b[0m \u001b[38;5;28;01mif\u001b[39;00m ndim(eff) \u001b[38;5;241m==\u001b[39m ndim(dT):  \u001b[38;5;66;03m# y is a vector, rather than a 2D array\u001b[39;00m\n\u001b[1;32m    630\u001b[0m     einsum_str \u001b[38;5;241m=\u001b[39m einsum_str\u001b[38;5;241m.\u001b[39mreplace(\u001b[38;5;124m'\u001b[39m\u001b[38;5;124my\u001b[39m\u001b[38;5;124m'\u001b[39m, \u001b[38;5;124m'\u001b[39m\u001b[38;5;124m'\u001b[39m)\n\u001b[0;32m--> 631\u001b[0m \u001b[38;5;28;01mreturn\u001b[39;00m \u001b[43mnp\u001b[49m\u001b[38;5;241;43m.\u001b[39;49m\u001b[43meinsum\u001b[49m\u001b[43m(\u001b[49m\u001b[43meinsum_str\u001b[49m\u001b[43m,\u001b[49m\u001b[43m \u001b[49m\u001b[43meff\u001b[49m\u001b[43m,\u001b[49m\u001b[43m \u001b[49m\u001b[43mdT\u001b[49m\u001b[43m)\u001b[49m\n",
      "File \u001b[0;32m<__array_function__ internals>:180\u001b[0m, in \u001b[0;36meinsum\u001b[0;34m(*args, **kwargs)\u001b[0m\n",
      "File \u001b[0;32m~/Documents/econml-env/lib/python3.8/site-packages/numpy/core/einsumfunc.py:1371\u001b[0m, in \u001b[0;36meinsum\u001b[0;34m(out, optimize, *operands, **kwargs)\u001b[0m\n\u001b[1;32m   1369\u001b[0m     \u001b[38;5;28;01mif\u001b[39;00m specified_out:\n\u001b[1;32m   1370\u001b[0m         kwargs[\u001b[38;5;124m'\u001b[39m\u001b[38;5;124mout\u001b[39m\u001b[38;5;124m'\u001b[39m] \u001b[38;5;241m=\u001b[39m out\n\u001b[0;32m-> 1371\u001b[0m     \u001b[38;5;28;01mreturn\u001b[39;00m \u001b[43mc_einsum\u001b[49m\u001b[43m(\u001b[49m\u001b[38;5;241;43m*\u001b[39;49m\u001b[43moperands\u001b[49m\u001b[43m,\u001b[49m\u001b[43m \u001b[49m\u001b[38;5;241;43m*\u001b[39;49m\u001b[38;5;241;43m*\u001b[39;49m\u001b[43mkwargs\u001b[49m\u001b[43m)\u001b[49m\n\u001b[1;32m   1373\u001b[0m \u001b[38;5;66;03m# Check the kwargs to avoid a more cryptic error later, without having to\u001b[39;00m\n\u001b[1;32m   1374\u001b[0m \u001b[38;5;66;03m# repeat default values here\u001b[39;00m\n\u001b[1;32m   1375\u001b[0m valid_einsum_kwargs \u001b[38;5;241m=\u001b[39m [\u001b[38;5;124m'\u001b[39m\u001b[38;5;124mdtype\u001b[39m\u001b[38;5;124m'\u001b[39m, \u001b[38;5;124m'\u001b[39m\u001b[38;5;124morder\u001b[39m\u001b[38;5;124m'\u001b[39m, \u001b[38;5;124m'\u001b[39m\u001b[38;5;124mcasting\u001b[39m\u001b[38;5;124m'\u001b[39m]\n",
      "\u001b[0;31mValueError\u001b[0m: einstein sum subscripts string contains too many subscripts for operand 0"
     ]
    }
   ],
   "source": [
    "est = LinearDRIV().fit(Y=Y, T=T, Z=Z, X=X)\n",
    "\n",
    "eff = est.effect(X)\n",
    "lb, ub = est.effect_interval(X)\n",
    "print(eff.shape)\n",
    "print(lb.shape)"
   ]
  },
  {
   "cell_type": "code",
   "execution_count": null,
   "metadata": {},
   "outputs": [
    {
     "data": {
      "text/plain": [
       "array([[ 2.37372932],\n",
       "       [ 0.16503574],\n",
       "       [-2.71786303],\n",
       "       [ 1.04051282],\n",
       "       [-0.63110476]])"
      ]
     },
     "execution_count": 5,
     "metadata": {},
     "output_type": "execute_result"
    }
   ],
   "source": [
    "eff[:5]"
   ]
  },
  {
   "cell_type": "markdown",
   "metadata": {},
   "source": [
    "## _gen_model_final method with 1) df and 2) array inputs"
   ]
  },
  {
   "cell_type": "markdown",
   "metadata": {},
   "source": [
    "### df"
   ]
  },
  {
   "cell_type": "code",
   "execution_count": 5,
   "metadata": {},
   "outputs": [
    {
     "name": "stderr",
     "output_type": "stream",
     "text": [
      "Not all column names are strings. Coercing to strings for now.\n",
      "A column-vector y was passed when a 1d array was expected. Please change the shape of y to (n_samples,), for example using ravel().\n",
      "A column-vector y was passed when a 1d array was expected. Please change the shape of y to (n_samples,), for example using ravel().\n",
      "A column-vector y was passed when a 1d array was expected. Please change the shape of y to (n_samples,), for example using ravel().\n",
      "A column-vector y was passed when a 1d array was expected. Please change the shape of y to (n_samples,), for example using ravel().\n",
      "A column-vector y was passed when a 1d array was expected. Please change the shape of y to (n_samples,), for example using ravel().\n",
      "A column-vector y was passed when a 1d array was expected. Please change the shape of y to (n_samples,), for example using ravel().\n",
      "A column-vector y was passed when a 1d array was expected. Please change the shape of y to (n_samples,), for example using ravel().\n",
      "A column-vector y was passed when a 1d array was expected. Please change the shape of y to (n_samples,), for example using ravel().\n",
      "A column-vector y was passed when a 1d array was expected. Please change the shape of y to (n_samples,), for example using ravel().\n",
      "A column-vector y was passed when a 1d array was expected. Please change the shape of y to (n_samples,), for example using ravel().\n",
      "A column-vector y was passed when a 1d array was expected. Please change the shape of y to (n_samples,), for example using ravel().\n",
      "A column-vector y was passed when a 1d array was expected. Please change the shape of y to (n_samples,), for example using ravel().\n"
     ]
    }
   ],
   "source": [
    "np.random.seed(42)\n",
    "df = pd.DataFrame(np.random.normal(size = (100, 6)))\n",
    "\n",
    "# keeps columns as dataframes\n",
    "Y = df[[0]]\n",
    "T = df[[1]]\n",
    "X = df[[2,3,4]]\n",
    "Z = df[[5]]\n",
    "\n",
    "est_df = LinearDRIV().fit(Y=Y, T=T, Z=Z, X=X)\n",
    "\n",
    "# StatsModelsLinearRegression = est._gen_model_final()\n",
    "# StatsModelsLinearRegression.fit(T, Y)"
   ]
  },
  {
   "cell_type": "code",
   "execution_count": 7,
   "metadata": {},
   "outputs": [
    {
     "data": {
      "text/html": [
       "<div>\n",
       "<style scoped>\n",
       "    .dataframe tbody tr th:only-of-type {\n",
       "        vertical-align: middle;\n",
       "    }\n",
       "\n",
       "    .dataframe tbody tr th {\n",
       "        vertical-align: top;\n",
       "    }\n",
       "\n",
       "    .dataframe thead th {\n",
       "        text-align: right;\n",
       "    }\n",
       "</style>\n",
       "<table border=\"1\" class=\"dataframe\">\n",
       "  <thead>\n",
       "    <tr style=\"text-align: right;\">\n",
       "      <th></th>\n",
       "      <th>0</th>\n",
       "    </tr>\n",
       "  </thead>\n",
       "  <tbody>\n",
       "    <tr>\n",
       "      <th>0</th>\n",
       "      <td>0.496714</td>\n",
       "    </tr>\n",
       "    <tr>\n",
       "      <th>1</th>\n",
       "      <td>1.579213</td>\n",
       "    </tr>\n",
       "    <tr>\n",
       "      <th>2</th>\n",
       "      <td>0.241962</td>\n",
       "    </tr>\n",
       "    <tr>\n",
       "      <th>3</th>\n",
       "      <td>-0.908024</td>\n",
       "    </tr>\n",
       "    <tr>\n",
       "      <th>4</th>\n",
       "      <td>-0.544383</td>\n",
       "    </tr>\n",
       "  </tbody>\n",
       "</table>\n",
       "</div>"
      ],
      "text/plain": [
       "          0\n",
       "0  0.496714\n",
       "1  1.579213\n",
       "2  0.241962\n",
       "3 -0.908024\n",
       "4 -0.544383"
      ]
     },
     "execution_count": 7,
     "metadata": {},
     "output_type": "execute_result"
    }
   ],
   "source": [
    "Y[:5]"
   ]
  },
  {
   "cell_type": "code",
   "execution_count": 12,
   "metadata": {},
   "outputs": [
    {
     "name": "stdout",
     "output_type": "stream",
     "text": [
      "<econml.iv.dr._dr._BaseDRIVModelFinal object at 0x7ff13bf3ed90>\n",
      "{'flexible_model_effect': StatsModelsLinearRegression(fit_intercept=False), 'prel_cate_approach': 'driv', 'prel_cv': 1, 'prel_opt_reweighted': True, 'model_y_xw': 'auto', 'model_t_xw': 'auto', 'model_t_xwz': 'auto', 'model_z_xw': 'auto', 'model_tz_xw': 'auto', 'prel_model_effect': 'driv', 'projection': False, 'fit_cov_directly': True, 'featurizer': None, 'fit_cate_intercept': True, 'cov_clip': 0.001, 'opt_reweighted': False, 'cv': 2, 'discrete_outcome': False, 'discrete_treatment': False, 'treatment_featurizer': None, 'discrete_instrument': False, 'random_state': None, 'categories': 'auto', 'mc_iters': None, 'mc_agg': 'mean', 'allow_missing': False, 'use_ray': False, 'ray_remote_func_options': None, '_ortho_learner_model_final': <econml.iv.dr._dr._BaseDRIVModelFinal object at 0x7ff13be60880>, '_ortho_learner_model_nuisance': [<econml.iv.dr._dr._BaseDRIVNuisanceSelector object at 0x7ff13d015ac0>, <econml.iv.dr._dr._BaseDRIVNuisanceCovarianceSelector object at 0x7ff13d0158e0>], '_d_y': (1,), '_d_t': (1,), '_input_names': {'feature_names': ['2', '3', '4'], 'output_names': ['0'], 'treatment_names': ['1']}, '_d_t_in': (1,), '_random_state': RandomState(MT19937) at 0x7FF150272640, '_d_x': (3,), '_d_w': None, '_d_z': (1,), 'outcome_transformer': None, 'transformer': None, 'z_transformer': None, '_models_nuisance': [[[<econml.iv.dr._dr._BaseDRIVNuisanceSelector object at 0x7ff13d033d60>, <econml.iv.dr._dr._BaseDRIVNuisanceSelector object at 0x7ff13d303f70>], [<econml.iv.dr._dr._BaseDRIVNuisanceCovarianceSelector object at 0x7ff13d5723d0>, <econml.iv.dr._dr._BaseDRIVNuisanceCovarianceSelector object at 0x7ff13d4fbca0>]]], 'nuisance_scores_': ([[-0.1726790019100506, -0.09586407751942128]], [[0.019491060643407998, 0.07330147215283223]], [[-0.006519601064925995, -0.011001434559639423]], [[551.942590777676, 311.8342576791136]], [[-0.015296884323745097, -0.04049784618041685]]), '_cached_values': None, 'score_': 430.6317203226418, '_inference': <econml.inference._inference.StatsModelsInference object at 0x7ff15a006880>}\n",
      "{'_model_final': StatsModelsLinearRegression(cov_type='HC1', fit_intercept=False), '_original_featurizer': None, '_fit_cate_intercept': True, '_cov_clip': 0.001, '_opt_reweighted': False, '_featurizer': FunctionTransformer(func=<function add_intercept at 0x7ff152caa160>,\n",
      "                    validate=True), 'd_y': (), 'd_t': ()}\n",
      "{'cov_type': 'HC1', 'fit_intercept': False, 'enable_federation': False, '_n_out': 0, '_n_obs': 100.0, 'XX': array([[100.        ,  -3.34077821,  -1.20568963, -13.59392029],\n",
      "       [ -3.34077821,  95.52079022,  -0.61106319,   8.40049652],\n",
      "       [ -1.20568963,  -0.61106319,  85.36666002,   3.33641947],\n",
      "       [-13.59392029,   8.40049652,   3.33641947, 117.02060816]]), 'Xy': array([[ 16.06587952],\n",
      "       [ 65.10131306],\n",
      "       [112.13173942],\n",
      "       [163.1846701 ]]), '_param': array([0.38041678, 0.58331199, 1.26990198, 1.36060641]), '_var': array([[5.26188768, 1.00092907, 5.87831835, 2.31927436],\n",
      "       [1.00092907, 1.65437651, 1.04482763, 0.71178899],\n",
      "       [5.87831835, 1.04482763, 8.58197524, 2.59062203],\n",
      "       [2.31927436, 0.71178899, 2.59062203, 2.38932145]]), '_param_var': array([[5.26188768, 1.00092907, 5.87831835, 2.31927436],\n",
      "       [1.00092907, 1.65437651, 1.04482763, 0.71178899],\n",
      "       [5.87831835, 1.04482763, 8.58197524, 2.59062203],\n",
      "       [2.31927436, 0.71178899, 2.59062203, 2.38932145]])}\n"
     ]
    }
   ],
   "source": [
    "print(est_df._gen_ortho_learner_model_final()) # method of ortholearner\n",
    "print(vars(est_df)) # fitted model\n",
    "print(vars(est_df._ortho_learner_model_final)) # attribute of ortholearner #est._ortho_learner_model_final \n",
    "print(vars(est_df._ortho_learner_model_final._model_final)) # ortholearner_model_final returns _BaseDRIVModelFinal which an attribute and an input model_final"
   ]
  },
  {
   "cell_type": "markdown",
   "metadata": {},
   "source": [
    "#### replicating _ortho_learner_model_final.predict(X) "
   ]
  },
  {
   "cell_type": "code",
   "execution_count": 49,
   "metadata": {},
   "outputs": [
    {
     "name": "stdout",
     "output_type": "stream",
     "text": [
      "[[0]\n",
      " [0]\n",
      " [0]\n",
      " [0]\n",
      " [0]\n",
      " [0]\n",
      " [0]\n",
      " [0]\n",
      " [0]\n",
      " [0]\n",
      " [0]\n",
      " [0]\n",
      " [0]\n",
      " [0]\n",
      " [0]\n",
      " [0]\n",
      " [0]\n",
      " [0]\n",
      " [0]\n",
      " [0]\n",
      " [0]\n",
      " [0]\n",
      " [0]\n",
      " [0]\n",
      " [0]\n",
      " [0]\n",
      " [0]\n",
      " [0]\n",
      " [0]\n",
      " [0]\n",
      " [0]\n",
      " [0]\n",
      " [0]\n",
      " [0]\n",
      " [0]\n",
      " [0]\n",
      " [0]\n",
      " [0]\n",
      " [0]\n",
      " [0]\n",
      " [0]\n",
      " [0]\n",
      " [0]\n",
      " [0]\n",
      " [0]\n",
      " [0]\n",
      " [0]\n",
      " [0]\n",
      " [0]\n",
      " [0]\n",
      " [0]\n",
      " [0]\n",
      " [0]\n",
      " [0]\n",
      " [0]\n",
      " [0]\n",
      " [0]\n",
      " [0]\n",
      " [0]\n",
      " [0]\n",
      " [0]\n",
      " [0]\n",
      " [0]\n",
      " [0]\n",
      " [0]\n",
      " [0]\n",
      " [0]\n",
      " [0]\n",
      " [0]\n",
      " [0]\n",
      " [0]\n",
      " [0]\n",
      " [0]\n",
      " [0]\n",
      " [0]\n",
      " [0]\n",
      " [0]\n",
      " [0]\n",
      " [0]\n",
      " [0]\n",
      " [0]\n",
      " [0]\n",
      " [0]\n",
      " [0]\n",
      " [0]\n",
      " [0]\n",
      " [0]\n",
      " [0]\n",
      " [0]\n",
      " [0]\n",
      " [0]\n",
      " [0]\n",
      " [0]\n",
      " [0]\n",
      " [0]\n",
      " [0]\n",
      " [0]\n",
      " [0]\n",
      " [0]\n",
      " [0]]\n",
      "100\n",
      "[[1]\n",
      " [1]\n",
      " [1]\n",
      " [1]\n",
      " [1]\n",
      " [1]\n",
      " [1]\n",
      " [1]\n",
      " [1]\n",
      " [1]\n",
      " [1]\n",
      " [1]\n",
      " [1]\n",
      " [1]\n",
      " [1]\n",
      " [1]\n",
      " [1]\n",
      " [1]\n",
      " [1]\n",
      " [1]\n",
      " [1]\n",
      " [1]\n",
      " [1]\n",
      " [1]\n",
      " [1]\n",
      " [1]\n",
      " [1]\n",
      " [1]\n",
      " [1]\n",
      " [1]\n",
      " [1]\n",
      " [1]\n",
      " [1]\n",
      " [1]\n",
      " [1]\n",
      " [1]\n",
      " [1]\n",
      " [1]\n",
      " [1]\n",
      " [1]\n",
      " [1]\n",
      " [1]\n",
      " [1]\n",
      " [1]\n",
      " [1]\n",
      " [1]\n",
      " [1]\n",
      " [1]\n",
      " [1]\n",
      " [1]\n",
      " [1]\n",
      " [1]\n",
      " [1]\n",
      " [1]\n",
      " [1]\n",
      " [1]\n",
      " [1]\n",
      " [1]\n",
      " [1]\n",
      " [1]\n",
      " [1]\n",
      " [1]\n",
      " [1]\n",
      " [1]\n",
      " [1]\n",
      " [1]\n",
      " [1]\n",
      " [1]\n",
      " [1]\n",
      " [1]\n",
      " [1]\n",
      " [1]\n",
      " [1]\n",
      " [1]\n",
      " [1]\n",
      " [1]\n",
      " [1]\n",
      " [1]\n",
      " [1]\n",
      " [1]\n",
      " [1]\n",
      " [1]\n",
      " [1]\n",
      " [1]\n",
      " [1]\n",
      " [1]\n",
      " [1]\n",
      " [1]\n",
      " [1]\n",
      " [1]\n",
      " [1]\n",
      " [1]\n",
      " [1]\n",
      " [1]\n",
      " [1]\n",
      " [1]\n",
      " [1]\n",
      " [1]\n",
      " [1]\n",
      " [1]]\n",
      "mt,mt->m\n"
     ]
    },
    {
     "data": {
      "text/plain": [
       "array([ 2.37372932,  0.16503574, -2.71786303,  1.04051282, -0.63110476])"
      ]
     },
     "execution_count": 49,
     "metadata": {},
     "output_type": "execute_result"
    }
   ],
   "source": [
    "# trying to deconstruct the effect function - it scales the marginal effect by the treatment difference \n",
    "# and it works with arbitrary dimensions of outcome and treatments\n",
    "\n",
    "X, T0, T1 = est_df._expand_treatments(X, 0, 1) # cannot understand where T0 and T1 are set\n",
    "print(T0)\n",
    "eff_const_marginal_df = est_df._ortho_learner_model_final.predict(X).reshape(-1,1) \n",
    "\n",
    "\n",
    "m = shape(eff_const_marginal_df)[0]\n",
    "print(m)\n",
    "dT = T1 - T0\n",
    "print(dT)\n",
    "einsum_str = 'myt,mt->my'\n",
    "if ndim(dT) == 1:\n",
    "    einsum_str = einsum_str.replace('t', '')\n",
    "if ndim(eff_const_marginal_df) == ndim(dT):  # y is a vector, rather than a 2D array\n",
    "    einsum_str = einsum_str.replace('y', '')\n",
    "print(einsum_str)\n",
    "np.einsum(einsum_str, eff_const_marginal_df, dT)[:5]\n",
    "\n"
   ]
  },
  {
   "cell_type": "code",
   "execution_count": 50,
   "metadata": {},
   "outputs": [
    {
     "data": {
      "image/png": "[encoded data removed]",
      "text/latex": [
       "$\\displaystyle \\left( 100, \\  1, \\  1\\right)$"
      ],
      "text/plain": [
       "(100, 1, 1)"
      ]
     },
     "execution_count": 50,
     "metadata": {},
     "output_type": "execute_result"
    }
   ],
   "source": [
    "(100,1) + (1,)"
   ]
  },
  {
   "cell_type": "code",
   "execution_count": 51,
   "metadata": {},
   "outputs": [
    {
     "data": {
      "image/png": "[encoded data removed]",
      "text/latex": [
       "$\\displaystyle \\left( 100, \\  1\\right)$"
      ],
      "text/plain": [
       "(100, 1)"
      ]
     },
     "execution_count": 51,
     "metadata": {},
     "output_type": "execute_result"
    }
   ],
   "source": [
    "eff_const_marginal_df.shape"
   ]
  },
  {
   "cell_type": "markdown",
   "metadata": {},
   "source": [
    "#### debugging dT = T1 - T0 - _expand_treatments(X, 0, 1) "
   ]
  },
  {
   "cell_type": "code",
   "execution_count": 27,
   "metadata": {},
   "outputs": [],
   "source": [
    "est_df.transformer # only with a featurizer? empty in my case"
   ]
  },
  {
   "cell_type": "code",
   "execution_count": 44,
   "metadata": {},
   "outputs": [
    {
     "data": {
      "image/png": "[encoded data removed]",
      "text/latex": [
       "$\\displaystyle \\left( 1,\\right)$"
      ],
      "text/plain": [
       "(1,)"
      ]
     },
     "execution_count": 44,
     "metadata": {},
     "output_type": "execute_result"
    }
   ],
   "source": [
    "est_df._d_t_in # original dimensions of T. why is it (1,)? comes from TreatmentExpansionMixin"
   ]
  },
  {
   "cell_type": "code",
   "execution_count": 32,
   "metadata": {},
   "outputs": [
    {
     "data": {
      "image/png": "[encoded data removed]",
      "text/latex": [
       "$\\displaystyle 2$"
      ],
      "text/plain": [
       "2"
      ]
     },
     "execution_count": 32,
     "metadata": {},
     "output_type": "execute_result"
    }
   ],
   "source": [
    "ndim(np.array([[0,1, 2],[0,1,2]])) # a condition within expand_treatments"
   ]
  },
  {
   "cell_type": "code",
   "execution_count": 15,
   "metadata": {},
   "outputs": [
    {
     "name": "stdout",
     "output_type": "stream",
     "text": [
      "(100, 1)\n",
      "<class 'numpy.ndarray'>\n"
     ]
    }
   ],
   "source": [
    "print(dT.shape)\n",
    "print(type(dT))"
   ]
  },
  {
   "cell_type": "code",
   "execution_count": 20,
   "metadata": {},
   "outputs": [
    {
     "name": "stdout",
     "output_type": "stream",
     "text": [
      "[[1]\n",
      " [1]]\n"
     ]
    }
   ],
   "source": [
    "# it doesn't print the commas\n",
    "print(np.array([\n",
    "    [1],  \n",
    "    [1]\n",
    "]))"
   ]
  },
  {
   "cell_type": "code",
   "execution_count": 42,
   "metadata": {},
   "outputs": [
    {
     "name": "stdout",
     "output_type": "stream",
     "text": [
      "[1 1 1 1 1]\n",
      "[[1]\n",
      " [1]\n",
      " [1]\n",
      " [1]\n",
      " [1]]\n"
     ]
    }
   ],
   "source": [
    "# first argument is shape, second argument is fill_value\n",
    "print(np.full((5,) + (),1)) \n",
    "print(np.full((5,) + (1,),1))  "
   ]
  },
  {
   "cell_type": "code",
   "execution_count": null,
   "metadata": {},
   "outputs": [
    {
     "name": "stdout",
     "output_type": "stream",
     "text": [
      "[[[ 2.37372932]]\n",
      "\n",
      " [[ 0.16503574]]\n",
      "\n",
      " [[-2.71786303]]\n",
      "\n",
      " [[ 1.04051282]]\n",
      "\n",
      " [[-0.63110476]]]\n",
      "(100, 1, 1)\n"
     ]
    }
   ],
   "source": [
    "print(est_df.const_marginal_effect(X)[:5])\n",
    "print(est_df.const_marginal_effect(X).shape)"
   ]
  },
  {
   "cell_type": "code",
   "execution_count": null,
   "metadata": {},
   "outputs": [
    {
     "data": {
      "text/plain": [
       "True"
      ]
     },
     "execution_count": 16,
     "metadata": {},
     "output_type": "execute_result"
    }
   ],
   "source": [
    "isinstance(est_df.const_marginal_effect(X), np.ndarray)"
   ]
  },
  {
   "cell_type": "code",
   "execution_count": null,
   "metadata": {},
   "outputs": [
    {
     "data": {
      "text/plain": [
       "array([[[ 2.37372932]],\n",
       "\n",
       "       [[ 0.16503574]],\n",
       "\n",
       "       [[-2.71786303]],\n",
       "\n",
       "       [[ 1.04051282]],\n",
       "\n",
       "       [[-0.63110476]]])"
      ]
     },
     "execution_count": 27,
     "metadata": {},
     "output_type": "execute_result"
    }
   ],
   "source": [
    "est_df._ortho_learner_model_final.predict(X)[:5] # difference is observable here"
   ]
  },
  {
   "cell_type": "code",
   "execution_count": null,
   "metadata": {},
   "outputs": [
    {
     "data": {
      "text/plain": [
       "['__class__',\n",
       " '__delattr__',\n",
       " '__dict__',\n",
       " '__dir__',\n",
       " '__doc__',\n",
       " '__eq__',\n",
       " '__format__',\n",
       " '__ge__',\n",
       " '__getattribute__',\n",
       " '__gt__',\n",
       " '__hash__',\n",
       " '__init__',\n",
       " '__init_subclass__',\n",
       " '__le__',\n",
       " '__lt__',\n",
       " '__module__',\n",
       " '__ne__',\n",
       " '__new__',\n",
       " '__reduce__',\n",
       " '__reduce_ex__',\n",
       " '__repr__',\n",
       " '__setattr__',\n",
       " '__sizeof__',\n",
       " '__slotnames__',\n",
       " '__str__',\n",
       " '__subclasshook__',\n",
       " '__weakref__',\n",
       " '_cov_clip',\n",
       " '_effect_estimate',\n",
       " '_featurizer',\n",
       " '_fit_cate_intercept',\n",
       " '_model_final',\n",
       " '_opt_reweighted',\n",
       " '_original_featurizer',\n",
       " '_transform_X',\n",
       " 'd_t',\n",
       " 'd_y',\n",
       " 'fit',\n",
       " 'predict',\n",
       " 'score']"
      ]
     },
     "execution_count": 28,
     "metadata": {},
     "output_type": "execute_result"
    }
   ],
   "source": [
    "dir(est_df._ortho_learner_model_final) # difference is observable here"
   ]
  },
  {
   "cell_type": "code",
   "execution_count": null,
   "metadata": {},
   "outputs": [
    {
     "data": {
      "text/plain": [
       "{'cov_type': 'HC1',\n",
       " 'fit_intercept': False,\n",
       " 'enable_federation': False,\n",
       " '_n_out': 0,\n",
       " '_n_obs': 100.0,\n",
       " 'XX': array([[100.        ,  -3.34077821,  -1.20568963, -13.59392029],\n",
       "        [ -3.34077821,  95.52079022,  -0.61106319,   8.40049652],\n",
       "        [ -1.20568963,  -0.61106319,  85.36666002,   3.33641947],\n",
       "        [-13.59392029,   8.40049652,   3.33641947, 117.02060816]]),\n",
       " 'Xy': array([[ 16.06587952],\n",
       "        [ 65.10131306],\n",
       "        [112.13173942],\n",
       "        [163.1846701 ]]),\n",
       " '_param': array([0.38041678, 0.58331199, 1.26990198, 1.36060641]),\n",
       " '_var': array([[5.26188768, 1.00092907, 5.87831835, 2.31927436],\n",
       "        [1.00092907, 1.65437651, 1.04482763, 0.71178899],\n",
       "        [5.87831835, 1.04482763, 8.58197524, 2.59062203],\n",
       "        [2.31927436, 0.71178899, 2.59062203, 2.38932145]]),\n",
       " '_param_var': array([[5.26188768, 1.00092907, 5.87831835, 2.31927436],\n",
       "        [1.00092907, 1.65437651, 1.04482763, 0.71178899],\n",
       "        [5.87831835, 1.04482763, 8.58197524, 2.59062203],\n",
       "        [2.31927436, 0.71178899, 2.59062203, 2.38932145]])}"
      ]
     },
     "execution_count": 32,
     "metadata": {},
     "output_type": "execute_result"
    }
   ],
   "source": [
    "vars(est_df._ortho_learner_model_final._model_final) # difference is observable here"
   ]
  },
  {
   "cell_type": "markdown",
   "metadata": {},
   "source": [
    "#### replicating _model_final.predict(X)"
   ]
  },
  {
   "cell_type": "code",
   "execution_count": null,
   "metadata": {},
   "outputs": [
    {
     "name": "stdout",
     "output_type": "stream",
     "text": [
      "[ 2.37372932  0.16503574 -2.71786303  1.04051282 -0.63110476]\n",
      "(100,)\n",
      "<class 'numpy.ndarray'>\n"
     ]
    }
   ],
   "source": [
    "# replicating in class _StatsModelsWrapper(BaseEstimator), the predict method \n",
    "X_constant = add_constant(X, has_constant='add')\n",
    "params_df = est_df._ortho_learner_model_final._model_final._param\n",
    "linear_model_df = np.matmul(X_constant, params_df)\n",
    "print(linear_model_df[:5])\n",
    "print(linear_model_df.shape)\n",
    "print(type(linear_model_df))"
   ]
  },
  {
   "cell_type": "code",
   "execution_count": null,
   "metadata": {},
   "outputs": [
    {
     "data": {
      "text/plain": [
       "(1,)"
      ]
     },
     "execution_count": 56,
     "metadata": {},
     "output_type": "execute_result"
    }
   ],
   "source": [
    "est_df._ortho_learner_model_final.d_t"
   ]
  },
  {
   "cell_type": "markdown",
   "metadata": {},
   "source": [
    "#### Replicating _BaseDRIVModelFinal predict method\n",
    "1) called when computing const_marginal_effect() method from Ortho learner \n",
    "2) it goes to self._ortho_learner_model_final.predict(X)\n",
    "3) it goes to the predict method of _BaseDRIVModelFinal"
   ]
  },
  {
   "cell_type": "code",
   "execution_count": null,
   "metadata": {},
   "outputs": [
    {
     "name": "stdout",
     "output_type": "stream",
     "text": [
      "[[[ 2.37372932]]\n",
      "\n",
      " [[ 0.16503574]]\n",
      "\n",
      " [[-2.71786303]]\n",
      "\n",
      " [[ 1.04051282]]\n",
      "\n",
      " [[-0.63110476]]]\n",
      "[ 2.37372932  0.16503574 -2.71786303  1.04051282 -0.63110476]\n"
     ]
    }
   ],
   "source": [
    "# replicating predict in _BaseDRIV - one layer above \n",
    "X_transformed = est_df._ortho_learner_model_final._transform_X(X, fitting=False)\n",
    "# linear_model_df.reshape((-1,) + est_df._ortho_learner_model_final.d_y + est_df._ortho_learner_model_final.d_t)\n",
    "estimate_df = est_df._ortho_learner_model_final._model_final.predict(X_transformed).reshape((-1,) + est_df._ortho_learner_model_final.d_y + est_df._ortho_learner_model_final.d_t)\n",
    "print(estimate_df[:5])\n",
    "print(est_df._ortho_learner_model_final._model_final.predict(X_transformed)[:5])"
   ]
  },
  {
   "cell_type": "markdown",
   "metadata": {},
   "source": [
    "#### fix"
   ]
  },
  {
   "cell_type": "code",
   "execution_count": 62,
   "metadata": {},
   "outputs": [
    {
     "data": {
      "text/html": [
       "<div>\n",
       "<style scoped>\n",
       "    .dataframe tbody tr th:only-of-type {\n",
       "        vertical-align: middle;\n",
       "    }\n",
       "\n",
       "    .dataframe tbody tr th {\n",
       "        vertical-align: top;\n",
       "    }\n",
       "\n",
       "    .dataframe thead th {\n",
       "        text-align: right;\n",
       "    }\n",
       "</style>\n",
       "<table border=\"1\" class=\"dataframe\">\n",
       "  <thead>\n",
       "    <tr style=\"text-align: right;\">\n",
       "      <th></th>\n",
       "      <th>0</th>\n",
       "    </tr>\n",
       "  </thead>\n",
       "  <tbody>\n",
       "    <tr>\n",
       "      <th>0</th>\n",
       "      <td>0.496714</td>\n",
       "    </tr>\n",
       "    <tr>\n",
       "      <th>1</th>\n",
       "      <td>-0.469474</td>\n",
       "    </tr>\n",
       "    <tr>\n",
       "      <th>2</th>\n",
       "      <td>-1.012831</td>\n",
       "    </tr>\n",
       "    <tr>\n",
       "      <th>3</th>\n",
       "      <td>-0.544383</td>\n",
       "    </tr>\n",
       "    <tr>\n",
       "      <th>4</th>\n",
       "      <td>-0.013497</td>\n",
       "    </tr>\n",
       "  </tbody>\n",
       "</table>\n",
       "</div>"
      ],
      "text/plain": [
       "          0\n",
       "0  0.496714\n",
       "1 -0.469474\n",
       "2 -1.012831\n",
       "3 -0.544383\n",
       "4 -0.013497"
      ]
     },
     "execution_count": 62,
     "metadata": {},
     "output_type": "execute_result"
    }
   ],
   "source": [
    "Y[:5]"
   ]
  },
  {
   "cell_type": "code",
   "execution_count": 75,
   "metadata": {},
   "outputs": [
    {
     "data": {
      "text/html": [
       "<div>\n",
       "<style scoped>\n",
       "    .dataframe tbody tr th:only-of-type {\n",
       "        vertical-align: middle;\n",
       "    }\n",
       "\n",
       "    .dataframe tbody tr th {\n",
       "        vertical-align: top;\n",
       "    }\n",
       "\n",
       "    .dataframe thead th {\n",
       "        text-align: right;\n",
       "    }\n",
       "</style>\n",
       "<table border=\"1\" class=\"dataframe\">\n",
       "  <thead>\n",
       "    <tr style=\"text-align: right;\">\n",
       "      <th></th>\n",
       "      <th>0</th>\n",
       "    </tr>\n",
       "  </thead>\n",
       "  <tbody>\n",
       "    <tr>\n",
       "      <th>0</th>\n",
       "      <td>0.496714</td>\n",
       "    </tr>\n",
       "    <tr>\n",
       "      <th>1</th>\n",
       "      <td>-0.469474</td>\n",
       "    </tr>\n",
       "    <tr>\n",
       "      <th>2</th>\n",
       "      <td>-1.012831</td>\n",
       "    </tr>\n",
       "    <tr>\n",
       "      <th>3</th>\n",
       "      <td>-0.544383</td>\n",
       "    </tr>\n",
       "    <tr>\n",
       "      <th>4</th>\n",
       "      <td>-0.013497</td>\n",
       "    </tr>\n",
       "  </tbody>\n",
       "</table>\n",
       "</div>"
      ],
      "text/plain": [
       "          0\n",
       "0  0.496714\n",
       "1 -0.469474\n",
       "2 -1.012831\n",
       "3 -0.544383\n",
       "4 -0.013497"
      ]
     },
     "execution_count": 75,
     "metadata": {},
     "output_type": "execute_result"
    }
   ],
   "source": [
    "Y[:5]"
   ]
  },
  {
   "cell_type": "code",
   "execution_count": 72,
   "metadata": {},
   "outputs": [
    {
     "data": {
      "text/plain": [
       "array([[ 0.49671415],\n",
       "       [-0.46947439],\n",
       "       [-1.01283112],\n",
       "       [-0.54438272],\n",
       "       [-0.01349722]])"
      ]
     },
     "execution_count": 72,
     "metadata": {},
     "output_type": "execute_result"
    }
   ],
   "source": [
    "Y.values[:5]"
   ]
  },
  {
   "cell_type": "code",
   "execution_count": 76,
   "metadata": {},
   "outputs": [
    {
     "name": "stdout",
     "output_type": "stream",
     "text": [
      "[ 0.49671415 -0.46947439 -1.01283112 -0.54438272 -0.01349722]\n",
      "(100,)\n"
     ]
    }
   ],
   "source": [
    "print(Y.values.ravel()[:5])\n",
    "print(Y.values.ravel().shape)"
   ]
  },
  {
   "cell_type": "code",
   "execution_count": null,
   "metadata": {},
   "outputs": [
    {
     "data": {
      "text/plain": [
       "array([[[ 2.37372932,  0.16503574],\n",
       "        [-2.71786303,  1.04051282]],\n",
       "\n",
       "       [[-0.63110476,  0.14851436],\n",
       "        [ 0.86042677, -2.02290247]],\n",
       "\n",
       "       [[-0.84058232, -0.05105912],\n",
       "        [-0.67845899,  0.26384173]],\n",
       "\n",
       "       [[ 0.01446047,  2.71660961],\n",
       "        [ 0.61106837, -0.97870288]],\n",
       "\n",
       "       [[-1.84026565,  3.3657985 ],\n",
       "        [-0.69054588,  0.43099448]]])"
      ]
     },
     "execution_count": 20,
     "metadata": {},
     "output_type": "execute_result"
    }
   ],
   "source": [
    "est_df._ortho_learner_model_final._model_final.predict(X_transformed).reshape((-1,) + (2,) + (2,))[:5]\n"
   ]
  },
  {
   "cell_type": "code",
   "execution_count": null,
   "metadata": {},
   "outputs": [
    {
     "data": {
      "text/plain": [
       "array([ 2.37372932,  0.16503574, -2.71786303,  1.04051282, -0.63110476])"
      ]
     },
     "execution_count": 12,
     "metadata": {},
     "output_type": "execute_result"
    }
   ],
   "source": [
    "est_df._ortho_learner_model_final._model_final.predict(X_transformed).reshape((-1,) + () + ())[:5]\n"
   ]
  },
  {
   "cell_type": "markdown",
   "metadata": {},
   "source": [
    "d_y = (100,2)[1:] # second dimension of Y\n",
    "print(d_y)\n",
    "print(type(d_y))\n",
    "print(len(d_y))\n",
    "print(d_y[0])\n",
    "print(d_y[1])"
   ]
  },
  {
   "cell_type": "code",
   "execution_count": 37,
   "metadata": {},
   "outputs": [
    {
     "data": {
      "text/plain": [
       "False"
      ]
     },
     "execution_count": 37,
     "metadata": {},
     "output_type": "execute_result"
    }
   ],
   "source": [
    "len(Y.shape) > 1 and Y.shape[1] > 1"
   ]
  },
  {
   "cell_type": "markdown",
   "metadata": {},
   "source": [
    "#### tuples and shapes"
   ]
  },
  {
   "cell_type": "code",
   "execution_count": 39,
   "metadata": {},
   "outputs": [
    {
     "name": "stdout",
     "output_type": "stream",
     "text": [
      "(100, 1)\n",
      "2\n"
     ]
    }
   ],
   "source": [
    "print(Y.shape)\n",
    "print(len(Y.shape))"
   ]
  },
  {
   "cell_type": "code",
   "execution_count": 42,
   "metadata": {},
   "outputs": [
    {
     "name": "stdout",
     "output_type": "stream",
     "text": [
      "1\n"
     ]
    }
   ],
   "source": [
    "tuple = (100,)\n",
    "print(len(tuple))\n",
    " "
   ]
  },
  {
   "cell_type": "code",
   "execution_count": 44,
   "metadata": {},
   "outputs": [],
   "source": [
    "d_y = Y.shape[1:] # we take second dimensions of the tuple\n",
    "d_t = T.shape[1:]"
   ]
  },
  {
   "cell_type": "code",
   "execution_count": 45,
   "metadata": {},
   "outputs": [
    {
     "data": {
      "image/png": "[encoded data removed]",
      "text/latex": [
       "$\\displaystyle \\left( 1,\\right)$"
      ],
      "text/plain": [
       "(1,)"
      ]
     },
     "execution_count": 45,
     "metadata": {},
     "output_type": "execute_result"
    }
   ],
   "source": [
    "d_y "
   ]
  },
  {
   "cell_type": "code",
   "execution_count": 57,
   "metadata": {},
   "outputs": [
    {
     "data": {
      "image/png": "[encoded data removed]",
      "text/latex": [
       "$\\displaystyle \\left( -1, \\  2, \\  2\\right)$"
      ],
      "text/plain": [
       "(-1, 2, 2)"
      ]
     },
     "execution_count": 57,
     "metadata": {},
     "output_type": "execute_result"
    }
   ],
   "source": [
    "(-1,) + (2,) + (2,)"
   ]
  },
  {
   "cell_type": "code",
   "execution_count": null,
   "metadata": {},
   "outputs": [
    {
     "data": {
      "image/png": "[encoded data removed]",
      "text/latex": [
       "$\\displaystyle \\left( -1,\\right)$"
      ],
      "text/plain": [
       "(-1,)"
      ]
     },
     "execution_count": 22,
     "metadata": {},
     "output_type": "execute_result"
    }
   ],
   "source": [
    "(-1,) + () + ()"
   ]
  },
  {
   "cell_type": "code",
   "execution_count": null,
   "metadata": {},
   "outputs": [
    {
     "data": {
      "image/png": "[encoded data removed]",
      "text/latex": [
       "$\\displaystyle \\left( -1, \\  1, \\  1\\right)$"
      ],
      "text/plain": [
       "(-1, 1, 1)"
      ]
     },
     "execution_count": 15,
     "metadata": {},
     "output_type": "execute_result"
    }
   ],
   "source": [
    "# addition of tuples\n",
    "(-1,) + (1,) + (1,)"
   ]
  },
  {
   "cell_type": "code",
   "execution_count": null,
   "metadata": {},
   "outputs": [
    {
     "data": {
      "image/png": "[encoded data removed]",
      "text/latex": [
       "$\\displaystyle \\left( 1, \\  1, \\  1\\right)$"
      ],
      "text/plain": [
       "(1, 1, 1)"
      ]
     },
     "execution_count": 16,
     "metadata": {},
     "output_type": "execute_result"
    }
   ],
   "source": [
    "(1,) + (1,) + (1,)"
   ]
  },
  {
   "cell_type": "code",
   "execution_count": null,
   "metadata": {},
   "outputs": [
    {
     "data": {
      "image/png": "[encoded data removed]",
      "text/latex": [
       "$\\displaystyle \\left( 1, \\  1, \\  1, \\  1, \\  1, \\  1\\right)$"
      ],
      "text/plain": [
       "(1, 1, 1, 1, 1, 1)"
      ]
     },
     "execution_count": 19,
     "metadata": {},
     "output_type": "execute_result"
    }
   ],
   "source": [
    "(1,1) + (1,1) + (1,1)"
   ]
  },
  {
   "cell_type": "code",
   "execution_count": null,
   "metadata": {},
   "outputs": [
    {
     "name": "stdout",
     "output_type": "stream",
     "text": [
      "(1,)\n",
      "<class 'tuple'>\n",
      "(1,)\n",
      "<class 'tuple'>\n"
     ]
    }
   ],
   "source": [
    "# dimensions of d_y and d_t\n",
    "print(est_df._ortho_learner_model_final.d_y)\n",
    "print(type(est_df._ortho_learner_model_final.d_y))\n",
    "print(est_df._ortho_learner_model_final.d_t)\n",
    "print(type(est_df._ortho_learner_model_final.d_t))\n"
   ]
  },
  {
   "cell_type": "code",
   "execution_count": null,
   "metadata": {},
   "outputs": [
    {
     "data": {
      "text/plain": [
       "array([[ 0.64768854,  1.52302986, -0.23415337],\n",
       "       [-0.46947439,  0.54256004, -0.46341769],\n",
       "       [-1.72491783, -0.56228753, -1.01283112],\n",
       "       [ 1.46564877, -0.2257763 ,  0.0675282 ],\n",
       "       [-1.15099358,  0.37569802, -0.60063869]])"
      ]
     },
     "execution_count": 57,
     "metadata": {},
     "output_type": "execute_result"
    }
   ],
   "source": [
    "X[:5]"
   ]
  },
  {
   "cell_type": "code",
   "execution_count": null,
   "metadata": {},
   "outputs": [
    {
     "data": {
      "text/plain": [
       "array([[ 1.        ,  0.64768854,  1.52302986, -0.23415337],\n",
       "       [ 1.        , -0.46947439,  0.54256004, -0.46341769],\n",
       "       [ 1.        , -1.72491783, -0.56228753, -1.01283112],\n",
       "       [ 1.        ,  1.46564877, -0.2257763 ,  0.0675282 ],\n",
       "       [ 1.        , -1.15099358,  0.37569802, -0.60063869]])"
      ]
     },
     "execution_count": 58,
     "metadata": {},
     "output_type": "execute_result"
    }
   ],
   "source": [
    "X_transformed[:5]"
   ]
  },
  {
   "cell_type": "markdown",
   "metadata": {},
   "source": [
    "#### fix 1 gives an error - investigate"
   ]
  },
  {
   "cell_type": "code",
   "execution_count": 14,
   "metadata": {},
   "outputs": [
    {
     "data": {
      "text/plain": [
       "array([ 0.49671415, -0.46947439, -1.01283112, -0.54438272, -0.01349722,\n",
       "        0.73846658,  0.34361829, -0.83921752,  0.81252582, -0.03582604,\n",
       "       -0.21967189, -0.5297602 ,  0.29612028, -0.16128571,  0.06023021,\n",
       "        0.79103195,  0.09965137, -0.78325329,  0.25988279, -0.68002472,\n",
       "       -0.97468167, -0.24538812,  0.01300189, -0.22346279,  0.21409374,\n",
       "        0.35778736,  0.51504769, -0.77282521, -0.47193187,  0.04557184,\n",
       "       -0.79252074,  1.76545424,  1.26691115, -0.25256815,  1.16316375,\n",
       "        0.11351735,  0.28099187,  0.89959988, -0.02090159,  0.82541635,\n",
       "        0.09699596,  0.62411982, -0.8254972 , -0.47103831,  0.85765962,\n",
       "        0.51934651,  0.0976761 ,  0.87232064, -0.75913266, -1.32023321,\n",
       "       -1.59442766,  0.12029563,  1.55115198,  0.64537595, -0.26940683,\n",
       "        0.38406545, -0.51386692, -0.10703036, -0.11232805, -1.51519106,\n",
       "       -0.12791759,  1.68714164, -1.03724615, -0.65064257, -0.23894805,\n",
       "       -1.66940528,  0.2597225 , -0.86041337, -2.4716445 ,  1.16778206,\n",
       "        0.28977486, -1.87079192,  0.23561456,  0.18186626,  0.47897983,\n",
       "        0.75698862, -1.77872025,  0.10939479,  1.59318663, -0.1580079 ,\n",
       "       -0.3357847 , -0.23093453,  0.01392929, -0.71284578, -0.34268759,\n",
       "        0.72167206,  0.71095997,  0.32613302, -1.55662917, -0.54491909,\n",
       "        0.30780177, -0.53975968,  0.25602973,  0.51765902, -0.97587325,\n",
       "       -0.57563783, -0.62696706, -0.72713718,  0.55979045,  0.27157884])"
      ]
     },
     "execution_count": 14,
     "metadata": {},
     "output_type": "execute_result"
    }
   ],
   "source": [
    "Y_ndarray = Y.values # Y.to_numpy\n",
    "Y_ndarray.ravel()"
   ]
  },
  {
   "cell_type": "markdown",
   "metadata": {},
   "source": [
    "### array"
   ]
  },
  {
   "cell_type": "code",
   "execution_count": 8,
   "metadata": {},
   "outputs": [
    {
     "name": "stderr",
     "output_type": "stream",
     "text": [
      "Not all column names are strings. Coercing to strings for now.\n"
     ]
    },
    {
     "name": "stdout",
     "output_type": "stream",
     "text": [
      "(100,)\n",
      "(100,)\n"
     ]
    }
   ],
   "source": [
    "np.random.seed(42)\n",
    "df = pd.DataFrame(np.random.normal(size = (100, 6)))\n",
    "\n",
    "# keeps columns as dataframes\n",
    "Y_a = df[0]\n",
    "T_a = df[1]\n",
    "X = df[[2,3,4]]\n",
    "Z_a = df[5]\n",
    "\n",
    "est_array = LinearDRIV().fit(Y=Y_a, T=T_a, Z=Z_a, X=X)\n",
    "\n",
    "eff_array = est_array.effect(X)\n",
    "lb_array, ub_array = est_array.effect_interval(X)\n",
    "print(eff_array.shape)\n",
    "print(lb_array.shape)"
   ]
  },
  {
   "cell_type": "code",
   "execution_count": 4,
   "metadata": {},
   "outputs": [
    {
     "data": {
      "text/plain": [
       "0    0.496714\n",
       "1    1.579213\n",
       "2    0.241962\n",
       "3   -0.908024\n",
       "4   -0.544383\n",
       "Name: 0, dtype: float64"
      ]
     },
     "execution_count": 4,
     "metadata": {},
     "output_type": "execute_result"
    }
   ],
   "source": [
    "Y_a[:5]"
   ]
  },
  {
   "cell_type": "markdown",
   "metadata": {},
   "source": [
    "#### deconstructing effect - array"
   ]
  },
  {
   "cell_type": "code",
   "execution_count": 9,
   "metadata": {},
   "outputs": [
    {
     "name": "stdout",
     "output_type": "stream",
     "text": [
      "[ 2.37372932  0.16503574 -2.71786303  1.04051282 -0.63110476]\n",
      "(100,)\n"
     ]
    }
   ],
   "source": [
    "eff_array_const_marginal = est_array._ortho_learner_model_final.predict(X) \n",
    "print(eff_array_const_marginal[:5])\n",
    "print(eff_array_const_marginal.shape)"
   ]
  },
  {
   "cell_type": "code",
   "execution_count": 6,
   "metadata": {},
   "outputs": [
    {
     "name": "stdout",
     "output_type": "stream",
     "text": [
      "[ 2.37372932  0.16503574 -2.71786303  1.04051282 -0.63110476]\n",
      "(100,)\n"
     ]
    }
   ],
   "source": [
    "print(est_array.const_marginal_effect(X)[:5])\n",
    "print(est_array.const_marginal_effect(X).shape)"
   ]
  },
  {
   "cell_type": "markdown",
   "metadata": {},
   "source": [
    "#### replicating _ortho_learner_model_final.predict(X)"
   ]
  },
  {
   "cell_type": "code",
   "execution_count": 24,
   "metadata": {},
   "outputs": [
    {
     "name": "stdout",
     "output_type": "stream",
     "text": [
      "[0 0 0 0 0 0 0 0 0 0 0 0 0 0 0 0 0 0 0 0 0 0 0 0 0 0 0 0 0 0 0 0 0 0 0 0 0\n",
      " 0 0 0 0 0 0 0 0 0 0 0 0 0 0 0 0 0 0 0 0 0 0 0 0 0 0 0 0 0 0 0 0 0 0 0 0 0\n",
      " 0 0 0 0 0 0 0 0 0 0 0 0 0 0 0 0 0 0 0 0 0 0 0 0 0 0]\n"
     ]
    },
    {
     "data": {
      "text/plain": [
       "array([ 2.37372932,  0.16503574, -2.71786303,  1.04051282, -0.63110476])"
      ]
     },
     "execution_count": 24,
     "metadata": {},
     "output_type": "execute_result"
    }
   ],
   "source": [
    "\n",
    "X, T0, T1 = est_array._expand_treatments(X, 0, 1) # cannot understand where T0 and T1 are set\n",
    "print(T0)\n",
    "eff_const_marginal_array = est_array._ortho_learner_model_final.predict(X) \n",
    "\n",
    "\n",
    "m = shape(eff_const_marginal_array)[0]\n",
    "dT = T1 - T0\n",
    "einsum_str = 'myt,mt->my'\n",
    "if ndim(dT) == 1:\n",
    "    einsum_str = einsum_str.replace('t', '')\n",
    "if ndim(eff_const_marginal_array) == ndim(dT):  # y is a vector, rather than a 2D array\n",
    "    einsum_str = einsum_str.replace('y', '')\n",
    "np.einsum(einsum_str, eff_const_marginal_array, dT)[:5]"
   ]
  },
  {
   "cell_type": "code",
   "execution_count": 23,
   "metadata": {},
   "outputs": [
    {
     "name": "stdout",
     "output_type": "stream",
     "text": [
      "100\n",
      "[1 1 1 1 1 1 1 1 1 1 1 1 1 1 1 1 1 1 1 1 1 1 1 1 1 1 1 1 1 1 1 1 1 1 1 1 1\n",
      " 1 1 1 1 1 1 1 1 1 1 1 1 1 1 1 1 1 1 1 1 1 1 1 1 1 1 1 1 1 1 1 1 1 1 1 1 1\n",
      " 1 1 1 1 1 1 1 1 1 1 1 1 1 1 1 1 1 1 1 1 1 1 1 1 1 1]\n",
      "<class 'numpy.ndarray'>\n",
      "(100,)\n",
      "m,m->m\n"
     ]
    }
   ],
   "source": [
    "print(m)\n",
    "print(dT)\n",
    "print(type(dT))\n",
    "print(dT.shape)\n",
    "print(einsum_str)\n",
    " "
   ]
  },
  {
   "cell_type": "markdown",
   "metadata": {},
   "source": [
    "#### Replicating _model_final.predict(X)"
   ]
  },
  {
   "cell_type": "code",
   "execution_count": null,
   "metadata": {},
   "outputs": [
    {
     "name": "stdout",
     "output_type": "stream",
     "text": [
      "0     2.373729\n",
      "1     0.165036\n",
      "2    -2.717863\n",
      "3     1.040513\n",
      "4    -0.631105\n",
      "        ...   \n",
      "95    1.421376\n",
      "96    1.430956\n",
      "97    0.176708\n",
      "98    0.467287\n",
      "99   -1.624447\n",
      "Length: 100, dtype: float64\n",
      "(100,)\n",
      "<class 'pandas.core.series.Series'>\n"
     ]
    }
   ],
   "source": [
    "# replicating in class _StatsModelsWrapper(BaseEstimator), the predict method \n",
    "X_constant = add_constant(X, has_constant='add')\n",
    "print(np.matmul(X_constant, est_array._ortho_learner_model_final._model_final._param))\n",
    "print(np.matmul(X_constant, est_array._ortho_learner_model_final._model_final._param).shape)\n",
    "print(type(np.matmul(X_constant, est_array._ortho_learner_model_final._model_final._param)))"
   ]
  },
  {
   "cell_type": "markdown",
   "metadata": {},
   "source": [
    "#### Replicating _BaseDRIVModelFinal predict method"
   ]
  },
  {
   "cell_type": "code",
   "execution_count": null,
   "metadata": {},
   "outputs": [
    {
     "name": "stdout",
     "output_type": "stream",
     "text": [
      "[ 2.37372932  0.16503574 -2.71786303  1.04051282 -0.63110476]\n",
      "[ 2.37372932  0.16503574 -2.71786303  1.04051282 -0.63110476]\n"
     ]
    }
   ],
   "source": [
    "X_transformed_array = est_array._ortho_learner_model_final._transform_X(X, fitting=False)\n",
    "# linear_model_df.reshape((-1,) + est_df._ortho_learner_model_final.d_y + est_df._ortho_learner_model_final.d_t)\n",
    "estimate_array = est_array._ortho_learner_model_final._model_final.predict(X_transformed_array).reshape((-1,) + est_array._ortho_learner_model_final.d_y + est_array._ortho_learner_model_final.d_t)\n",
    "print(estimate_array[:5])\n",
    "print(est_array._ortho_learner_model_final._model_final.predict(X_transformed_array)[:5])"
   ]
  },
  {
   "cell_type": "code",
   "execution_count": null,
   "metadata": {},
   "outputs": [
    {
     "data": {
      "text/plain": [
       "array([ 2.37372932,  0.16503574, -2.71786303,  1.04051282, -0.63110476])"
      ]
     },
     "execution_count": 74,
     "metadata": {},
     "output_type": "execute_result"
    }
   ],
   "source": [
    "est_array._ortho_learner_model_final._model_final.predict(X_transformed_array).reshape((-1,) + () + ())[:5]"
   ]
  },
  {
   "cell_type": "code",
   "execution_count": null,
   "metadata": {},
   "outputs": [
    {
     "name": "stdout",
     "output_type": "stream",
     "text": [
      "()\n",
      "<class 'tuple'>\n",
      "()\n",
      "<class 'tuple'>\n"
     ]
    }
   ],
   "source": [
    "print(est_array._ortho_learner_model_final.d_y)\n",
    "print(type(est_array._ortho_learner_model_final.d_y))\n",
    "print(est_array._ortho_learner_model_final.d_t)\n",
    "print(type(est_array._ortho_learner_model_final.d_t))"
   ]
  },
  {
   "cell_type": "markdown",
   "metadata": {},
   "source": [
    "## Reproducing in SparseLinearDRIV"
   ]
  },
  {
   "cell_type": "code",
   "execution_count": 54,
   "metadata": {},
   "outputs": [
    {
     "name": "stderr",
     "output_type": "stream",
     "text": [
      "Not all column names are strings. Coercing to strings for now.\n",
      "A column-vector y was passed when a 1d array was expected. Please change the shape of y to (n_samples,), for example using ravel().\n",
      "A column-vector y was passed when a 1d array was expected. Please change the shape of y to (n_samples,), for example using ravel().\n",
      "A column-vector y was passed when a 1d array was expected. Please change the shape of y to (n_samples,), for example using ravel().\n",
      "A column-vector y was passed when a 1d array was expected. Please change the shape of y to (n_samples,), for example using ravel().\n",
      "A column-vector y was passed when a 1d array was expected. Please change the shape of y to (n_samples,), for example using ravel().\n",
      "A column-vector y was passed when a 1d array was expected. Please change the shape of y to (n_samples,), for example using ravel().\n",
      "A column-vector y was passed when a 1d array was expected. Please change the shape of y to (n_samples,), for example using ravel().\n",
      "A column-vector y was passed when a 1d array was expected. Please change the shape of y to (n_samples,), for example using ravel().\n",
      "A column-vector y was passed when a 1d array was expected. Please change the shape of y to (n_samples,), for example using ravel().\n",
      "A column-vector y was passed when a 1d array was expected. Please change the shape of y to (n_samples,), for example using ravel().\n",
      "A column-vector y was passed when a 1d array was expected. Please change the shape of y to (n_samples,), for example using ravel().\n",
      "A column-vector y was passed when a 1d array was expected. Please change the shape of y to (n_samples,), for example using ravel().\n",
      "A column-vector y was passed when a 1d array was expected. Please change the shape of y to (n_samples,), for example using ravel().\n",
      "A column-vector y was passed when a 1d array was expected. Please change the shape of y to (n_samples,), for example using ravel().\n"
     ]
    }
   ],
   "source": [
    "def dgp(n, p, true_fn):\n",
    "    X = np.random.normal(0, 1, size=(n, p))\n",
    "    Z = np.random.binomial(1, 0.5, size=(n,))\n",
    "    nu = np.random.uniform(0, 10, size=(n,))\n",
    "    coef_Z = 0.8\n",
    "    C = np.random.binomial(\n",
    "        1, coef_Z * scipy.special.expit(0.4 * X[:, 0] + nu)\n",
    "    )  # Compliers when recomended\n",
    "    C0 = np.random.binomial(\n",
    "        1, 0.06 * np.ones(X.shape[0])\n",
    "    )  # Non-compliers when not recommended\n",
    "    T = C * Z + C0 * (1 - Z)\n",
    "    y = true_fn(X) * T + 2 * nu + 5 * (X[:, 3] > 0) + 0.1 * np.random.uniform(0, 1, size=(n,))\n",
    "    return y, T, Z, X\n",
    "\n",
    "def true_heterogeneity_function(X):\n",
    "    return 5 * X[:, 0]\n",
    "\n",
    "np.random.seed(123)\n",
    "y, T, Z, X = dgp(1000, 5, true_heterogeneity_function)\n",
    "est = SparseLinearDRIV(discrete_treatment=True, discrete_instrument=True)\n",
    "est1 = est.fit(Y=pd.DataFrame(y), T=pd.DataFrame(T), Z=Z, X=X)"
   ]
  },
  {
   "cell_type": "code",
   "execution_count": 55,
   "metadata": {},
   "outputs": [
    {
     "name": "stdout",
     "output_type": "stream",
     "text": [
      "(1000, 1)\n",
      "(1000,)\n"
     ]
    }
   ],
   "source": [
    "eff = est1.effect(X)\n",
    "lb, ub = est1.effect_interval(X)\n",
    "print(eff.shape)\n",
    "print(lb.shape)"
   ]
  },
  {
   "cell_type": "markdown",
   "metadata": {},
   "source": [
    "## Einsum summation - effect method\n",
    "Explanation: https://stackoverflow.com/questions/26089893/understanding-numpys-einsum "
   ]
  },
  {
   "cell_type": "code",
   "execution_count": null,
   "metadata": {},
   "outputs": [],
   "source": [
    "A = np.array([0, 1, 2])\n",
    "\n",
    "B = np.array([[ 0,  1,  2,  3],\n",
    "              [ 4,  5,  6,  7],\n",
    "              [ 8,  9, 10, 11]])"
   ]
  },
  {
   "cell_type": "code",
   "execution_count": null,
   "metadata": {},
   "outputs": [
    {
     "name": "stdout",
     "output_type": "stream",
     "text": [
      "(3,)\n",
      "(3, 4)\n"
     ]
    }
   ],
   "source": [
    "print(A.shape)\n",
    "print(B.shape)"
   ]
  },
  {
   "cell_type": "code",
   "execution_count": null,
   "metadata": {},
   "outputs": [
    {
     "data": {
      "text/plain": [
       "array([[ 0,  0,  0,  0],\n",
       "       [ 4,  5,  6,  7],\n",
       "       [16, 18, 20, 22]])"
      ]
     },
     "execution_count": 12,
     "metadata": {},
     "output_type": "execute_result"
    }
   ],
   "source": [
    " (A[:, np.newaxis] * B)"
   ]
  },
  {
   "cell_type": "code",
   "execution_count": null,
   "metadata": {},
   "outputs": [
    {
     "data": {
      "text/plain": [
       "array([ 0, 22, 76])"
      ]
     },
     "execution_count": 14,
     "metadata": {},
     "output_type": "execute_result"
    }
   ],
   "source": [
    "(A[:, np.newaxis] * B).sum(axis=1)"
   ]
  },
  {
   "cell_type": "code",
   "execution_count": null,
   "metadata": {},
   "outputs": [
    {
     "data": {
      "text/plain": [
       "array([ 0, 22, 76])"
      ]
     },
     "execution_count": 15,
     "metadata": {},
     "output_type": "execute_result"
    }
   ],
   "source": [
    "np.einsum('i,ij->i', A, B)"
   ]
  },
  {
   "cell_type": "markdown",
   "metadata": {},
   "source": [
    "## Failing to reproduce with array inputs"
   ]
  },
  {
   "cell_type": "code",
   "execution_count": null,
   "metadata": {},
   "outputs": [
    {
     "name": "stderr",
     "output_type": "stream",
     "text": [
      "Not all column names are strings. Coercing to strings for now.\n"
     ]
    },
    {
     "name": "stdout",
     "output_type": "stream",
     "text": [
      "(100,)\n",
      "(100,)\n"
     ]
    }
   ],
   "source": [
    "df = pd.DataFrame(np.random.normal(size = (100, 6)))\n",
    "\n",
    "# keeps columns as dataframes\n",
    "Y_s = df[0]\n",
    "T_s = df[1]\n",
    "X = df[[2,3,4]]\n",
    "Z_s = df[5]\n",
    "\n",
    "est = LinearDRIV().fit(Y=Y_s, T=T_s, Z=Z_s, X=X)\n",
    "\n",
    "eff = est.effect(X)\n",
    "lb, ub = est.effect_interval(X)\n",
    "print(eff.shape)\n",
    "print(lb.shape)"
   ]
  },
  {
   "cell_type": "markdown",
   "metadata": {},
   "source": [
    "## Understanding shapes of arrays - general"
   ]
  },
  {
   "cell_type": "code",
   "execution_count": null,
   "metadata": {},
   "outputs": [
    {
     "data": {
      "text/plain": [
       "array([[-1.67174076],\n",
       "       [ 0.03310184],\n",
       "       [-0.88433428],\n",
       "       [-1.65927641],\n",
       "       [-1.60448055]])"
      ]
     },
     "execution_count": 19,
     "metadata": {},
     "output_type": "execute_result"
    }
   ],
   "source": [
    "eff[:5]"
   ]
  },
  {
   "cell_type": "code",
   "execution_count": null,
   "metadata": {},
   "outputs": [
    {
     "data": {
      "text/plain": [
       "array([-5.67681964, -3.79967594, -7.29413105, -5.14782836, -4.82066673])"
      ]
     },
     "execution_count": 25,
     "metadata": {},
     "output_type": "execute_result"
    }
   ],
   "source": [
    "lb[:5]"
   ]
  },
  {
   "cell_type": "code",
   "execution_count": null,
   "metadata": {},
   "outputs": [
    {
     "name": "stdout",
     "output_type": "stream",
     "text": [
      "(3, 2)\n"
     ]
    }
   ],
   "source": [
    "array_2d = np.array([[1, 2], \n",
    "                     [3, 4],\n",
    "                     [5, 6]])\n",
    "print(array_2d.shape)  # (3, 2) array_2d.shape"
   ]
  },
  {
   "cell_type": "markdown",
   "metadata": {},
   "source": [
    "## Usage Mistake - concatenate results"
   ]
  },
  {
   "cell_type": "code",
   "execution_count": null,
   "metadata": {},
   "outputs": [
    {
     "ename": "ValueError",
     "evalue": "all the input arrays must have same number of dimensions, but the array at index 0 has 2 dimension(s) and the array at index 1 has 1 dimension(s)",
     "output_type": "error",
     "traceback": [
      "\u001b[0;31m---------------------------------------------------------------------------\u001b[0m",
      "\u001b[0;31mValueError\u001b[0m                                Traceback (most recent call last)",
      "Cell \u001b[0;32mIn[48], line 1\u001b[0m\n\u001b[0;32m----> 1\u001b[0m vect_coef_ci \u001b[38;5;241m=\u001b[39m \u001b[43mnp\u001b[49m\u001b[38;5;241;43m.\u001b[39;49m\u001b[43mconcatenate\u001b[49m\u001b[43m(\u001b[49m\u001b[43m(\u001b[49m\u001b[43meff\u001b[49m\u001b[43m,\u001b[49m\u001b[43m \u001b[49m\u001b[43mlb\u001b[49m\u001b[43m,\u001b[49m\u001b[43m \u001b[49m\u001b[43mub\u001b[49m\u001b[43m)\u001b[49m\u001b[43m,\u001b[49m\u001b[43m \u001b[49m\u001b[43maxis\u001b[49m\u001b[38;5;241;43m=\u001b[39;49m\u001b[38;5;241;43m1\u001b[39;49m\u001b[43m)\u001b[49m\n",
      "File \u001b[0;32m<__array_function__ internals>:180\u001b[0m, in \u001b[0;36mconcatenate\u001b[0;34m(*args, **kwargs)\u001b[0m\n",
      "\u001b[0;31mValueError\u001b[0m: all the input arrays must have same number of dimensions, but the array at index 0 has 2 dimension(s) and the array at index 1 has 1 dimension(s)"
     ]
    }
   ],
   "source": [
    "vect_coef_ci = np.concatenate((eff, lb, ub), axis=1)\n"
   ]
  },
  {
   "cell_type": "code",
   "execution_count": null,
   "metadata": {},
   "outputs": [
    {
     "data": {
      "text/plain": [
       "array([[-1.67174076, -5.67681964,  2.33333812],\n",
       "       [ 0.03310184, -3.79967594,  3.86587961],\n",
       "       [-0.88433428, -7.29413105,  5.52546249],\n",
       "       [-1.65927641, -5.14782836,  1.82927553],\n",
       "       [-1.60448055, -4.82066673,  1.61170563]])"
      ]
     },
     "execution_count": 35,
     "metadata": {},
     "output_type": "execute_result"
    }
   ],
   "source": [
    "lb_reshaped = lb.reshape(-1, 1) # 1 column, as many rows needed\n",
    "ub_reshaped = ub.reshape(-1, 1)\n",
    "vect_coef_ci = np.concatenate((eff, lb_reshaped, ub_reshaped), axis=1) # sames number of rows required, horizontal, column-wise concatenation\n",
    "vect_coef_ci[:5]"
   ]
  },
  {
   "cell_type": "code",
   "execution_count": null,
   "metadata": {},
   "outputs": [
    {
     "name": "stdout",
     "output_type": "stream",
     "text": [
      "[[-5.67681964]\n",
      " [-3.79967594]\n",
      " [-7.29413105]\n",
      " [-5.14782836]\n",
      " [-4.82066673]]\n"
     ]
    }
   ],
   "source": [
    "print(lb_reshaped[:5])"
   ]
  },
  {
   "cell_type": "markdown",
   "metadata": {},
   "source": [
    "## Plotting - no issues"
   ]
  },
  {
   "cell_type": "code",
   "execution_count": null,
   "metadata": {},
   "outputs": [
    {
     "data": {
      "image/png": "[encoded data removed]",
      "text/plain": [
       "<Figure size 1000x600 with 1 Axes>"
      ]
     },
     "metadata": {},
     "output_type": "display_data"
    }
   ],
   "source": [
    "# Plotting\n",
    "plt.figure(figsize=(10, 6))\n",
    "\n",
    "# Plot the effect\n",
    "plt.plot(eff, label='Estimated Effect', color='blue')\n",
    "\n",
    "# Plot the confidence intervals\n",
    "plt.fill_between(np.arange(eff.shape[0]), lb, ub, color='lightblue', alpha=0.3, label='95% CI')\n",
    "\n",
    "# Labels and legend\n",
    "plt.xlabel('Sample Index')\n",
    "plt.ylabel('Treatment Effect')\n",
    "plt.title('Heterogeneous Treatment Effect with Confidence Intervals')\n",
    "plt.legend()\n",
    "\n",
    "plt.show()"
   ]
  },
  {
   "cell_type": "code",
   "execution_count": null,
   "metadata": {},
   "outputs": [
    {
     "data": {
      "text/plain": [
       "array([0, 1, 2, 3, 4, 5, 6, 7, 8, 9])"
      ]
     },
     "execution_count": 12,
     "metadata": {},
     "output_type": "execute_result"
    }
   ],
   "source": [
    "np.arange(10)"
   ]
  }
 ],
 "metadata": {
  "kernelspec": {
   "display_name": "econml-env",
   "language": "python",
   "name": "python3"
  },
  "language_info": {
   "codemirror_mode": {
    "name": "ipython",
    "version": 3
   },
   "file_extension": ".py",
   "mimetype": "text/x-python",
   "name": "python",
   "nbconvert_exporter": "python",
   "pygments_lexer": "ipython3",
   "version": "3.8.5"
  }
 },
 "nbformat": 4,
 "nbformat_minor": 2
}
